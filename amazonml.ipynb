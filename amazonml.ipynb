{
 "cells": [
  {
   "cell_type": "code",
   "execution_count": 90,
   "id": "bb9b4948",
   "metadata": {},
   "outputs": [],
   "source": [
    "import numpy as np\n",
    "import matplotlib.pyplot as plt\n",
    "import pandas as pd\n",
    "import csv\n",
    "from pandas_datareader import data as pdr\n",
    "\n",
    "from sklearn.preprocessing import MinMaxScaler\n",
    "from sklearn.linear_model import LinearRegression\n",
    "from sklearn.metrics import mean_squared_error, r2_score"
   ]
  },
  {
   "cell_type": "code",
   "execution_count": 91,
   "id": "5de1f777",
   "metadata": {},
   "outputs": [],
   "source": [
    "trainset = pd.read_csv(\"C:/Users/svnka/Amazon ML/dataset/train.csv\")\n",
    "testset = pd.read_csv(\"C:/Users/svnka/Amazon ML/dataset/test.csv\")"
   ]
  },
  {
   "cell_type": "code",
   "execution_count": 92,
   "id": "9485bb47",
   "metadata": {},
   "outputs": [
    {
     "name": "stdout",
     "output_type": "stream",
     "text": [
      "Train_data\n",
      "          PRODUCT_ID  PRODUCT_LENGTH\n",
      "0           1925202     2125.980000\n",
      "1           2673191      393.700000\n",
      "2           2765088      748.031495\n",
      "3           1594019      787.401574\n",
      "4            283658      598.424000\n",
      "...             ...             ...\n",
      "2249693     2422167     1181.100000\n",
      "2249694     2766635      125.984252\n",
      "2249695     1987786     1200.000000\n",
      "2249696     1165754     2900.000000\n",
      "2249697     1072666     2000.000000\n",
      "\n",
      "[2249698 rows x 2 columns]\n",
      "Test_data\n",
      "         PRODUCT_ID\n",
      "0           604373\n",
      "1          1729783\n",
      "2          1871949\n",
      "3          1107571\n",
      "4           624253\n",
      "...            ...\n",
      "734731      921419\n",
      "734732     2456362\n",
      "734733      841529\n",
      "734734     1190194\n",
      "734735     1040810\n",
      "\n",
      "[734736 rows x 1 columns]\n"
     ]
    }
   ],
   "source": [
    "train_data = trainset[[\"PRODUCT_ID\",\"PRODUCT_LENGTH\"]]\n",
    "print(\"Train_data\\n\",train_data)\n",
    "test_data = testset[[\"PRODUCT_ID\"]]\n",
    "print(\"Test_data\\n\",test_data)"
   ]
  },
  {
   "cell_type": "code",
   "execution_count": 93,
   "id": "abb5e0c0",
   "metadata": {},
   "outputs": [
    {
     "name": "stdout",
     "output_type": "stream",
     "text": [
      "X_train:  [[1925202]\n",
      " [2673191]\n",
      " [2765088]\n",
      " ...\n",
      " [1987786]\n",
      " [1165754]\n",
      " [1072666]]\n",
      "y_train:  [2125.98       393.7        748.0314953 ... 1200.        2900.\n",
      " 2000.       ]\n",
      "X_test:  [[ 604373]\n",
      " [1729783]\n",
      " [1871949]\n",
      " ...\n",
      " [ 841529]\n",
      " [1190194]\n",
      " [1040810]]\n"
     ]
    }
   ],
   "source": [
    "X_train = train_data['PRODUCT_ID'].values.reshape(-1, 1)\n",
    "y_train = train_data['PRODUCT_LENGTH'].values\n",
    "print(\"X_train: \", X_train)\n",
    "print(\"y_train: \", y_train)\n",
    "X_test = test_data['PRODUCT_ID'].values.reshape(-1, 1)\n",
    "print(\"X_test: \", X_test)"
   ]
  },
  {
   "cell_type": "code",
   "execution_count": 94,
   "id": "2e493979",
   "metadata": {},
   "outputs": [
    {
     "data": {
      "text/plain": [
       "LinearRegression()"
      ]
     },
     "execution_count": 94,
     "metadata": {},
     "output_type": "execute_result"
    }
   ],
   "source": [
    "model = LinearRegression()\n",
    "model.fit(X_train, y_train)"
   ]
  },
  {
   "cell_type": "code",
   "execution_count": 95,
   "id": "86b59a5e",
   "metadata": {},
   "outputs": [
    {
     "name": "stdout",
     "output_type": "stream",
     "text": [
      "y_pred:  [3479.9677699  4223.86027983 4317.83156369 ... 3636.72714833 3867.19362897\n",
      " 3768.45126956]\n"
     ]
    }
   ],
   "source": [
    "y_pred = model.predict(X_test)\n",
    "print(\"y_pred: \",y_pred)"
   ]
  },
  {
   "cell_type": "code",
   "execution_count": 96,
   "id": "11d69d23",
   "metadata": {},
   "outputs": [
    {
     "name": "stdout",
     "output_type": "stream",
     "text": [
      "X_test:  [ 604373 1729783 1871949 ...  841529 1190194 1040810]\n"
     ]
    }
   ],
   "source": [
    "X_test = test_data['PRODUCT_ID'].values\n",
    "print(\"X_test: \", X_test)"
   ]
  },
  {
   "cell_type": "code",
   "execution_count": 98,
   "id": "652abd21",
   "metadata": {},
   "outputs": [],
   "source": [
    "productid= X_test\n",
    "productlength=y_pred\n",
    "\n",
    "data=list(zip(productid, productlength))\n",
    "with open('submission.csv', mode='w', newline='') as file:\n",
    "    writer=csv.writer(file)\n",
    "    writer.writerow(['PRODUCT_ID','PRODUCT_LENGTH'])\n",
    "    for row in data:\n",
    "        writer.writerow(row)"
   ]
  },
  {
   "cell_type": "code",
   "execution_count": null,
   "id": "0c842811",
   "metadata": {},
   "outputs": [],
   "source": []
  }
 ],
 "metadata": {
  "kernelspec": {
   "display_name": "Python 3 (ipykernel)",
   "language": "python",
   "name": "python3"
  },
  "language_info": {
   "codemirror_mode": {
    "name": "ipython",
    "version": 3
   },
   "file_extension": ".py",
   "mimetype": "text/x-python",
   "name": "python",
   "nbconvert_exporter": "python",
   "pygments_lexer": "ipython3",
   "version": "3.9.16"
  }
 },
 "nbformat": 4,
 "nbformat_minor": 5
}
