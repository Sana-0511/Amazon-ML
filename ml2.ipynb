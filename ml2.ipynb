{
 "cells": [
  {
   "cell_type": "code",
   "execution_count": 4,
   "id": "5a58d8ac",
   "metadata": {},
   "outputs": [],
   "source": [
    "import numpy as np\n",
    "import matplotlib.pyplot as plt\n",
    "import pandas as pd\n",
    "import csv\n",
    "from sklearn.model_selection import train_test_split\n",
    "from sklearn.linear_model import LinearRegression\n",
    "from sklearn.metrics import mean_squared_error, r2_score"
   ]
  },
  {
   "cell_type": "code",
   "execution_count": 13,
   "id": "da47b227",
   "metadata": {},
   "outputs": [],
   "source": [
    "trainset = pd.read_csv(\"C:/Users/svnka/Amazon ML/dataset/train.csv\")\n",
    "testset = pd.read_csv(\"C:/Users/svnka/Amazon ML/dataset/test2.csv\")"
   ]
  },
  {
   "cell_type": "code",
   "execution_count": 15,
   "id": "44d9ddde",
   "metadata": {},
   "outputs": [
    {
     "name": "stdout",
     "output_type": "stream",
     "text": [
      "Train_data\n",
      "          PRODUCT_ID  PRODUCT_LENGTH\n",
      "0           1925202     2125.980000\n",
      "1           2673191      393.700000\n",
      "2           2765088      748.031495\n",
      "3           1594019      787.401574\n",
      "4            283658      598.424000\n",
      "...             ...             ...\n",
      "2249693     2422167     1181.100000\n",
      "2249694     2766635      125.984252\n",
      "2249695     1987786     1200.000000\n",
      "2249696     1165754     2900.000000\n",
      "2249697     1072666     2000.000000\n",
      "\n",
      "[2249698 rows x 2 columns]\n",
      "Test_data\n",
      "          PRODUCT_ID\n",
      "0           1925202\n",
      "1           2673191\n",
      "2           2765088\n",
      "3           1594019\n",
      "4            283658\n",
      "...             ...\n",
      "2249693     2422167\n",
      "2249694     2766635\n",
      "2249695     1987786\n",
      "2249696     1165754\n",
      "2249697     1072666\n",
      "\n",
      "[2249698 rows x 1 columns]\n"
     ]
    }
   ],
   "source": [
    "train_data = trainset[[\"PRODUCT_ID\",\"PRODUCT_LENGTH\"]]\n",
    "print(\"Train_data\\n\",train_data)\n",
    "test_data = testset[[\"PRODUCT_ID\"]]\n",
    "print(\"Test_data\\n\",test_data)"
   ]
  },
  {
   "cell_type": "code",
   "execution_count": 16,
   "id": "f726767d",
   "metadata": {},
   "outputs": [
    {
     "name": "stdout",
     "output_type": "stream",
     "text": [
      "X_train:  [[1925202]\n",
      " [2673191]\n",
      " [2765088]\n",
      " ...\n",
      " [1987786]\n",
      " [1165754]\n",
      " [1072666]]\n",
      "y_train:  [2125.98       393.7        748.0314953 ... 1200.        2900.\n",
      " 2000.       ]\n",
      "X_test:  [[1925202]\n",
      " [2673191]\n",
      " [2765088]\n",
      " ...\n",
      " [1987786]\n",
      " [1165754]\n",
      " [1072666]]\n"
     ]
    }
   ],
   "source": [
    "X_train = train_data['PRODUCT_ID'].values.reshape(-1, 1)\n",
    "y_train = train_data['PRODUCT_LENGTH'].values\n",
    "print(\"X_train: \", X_train)\n",
    "print(\"y_train: \", y_train)\n",
    "X_test = test_data['PRODUCT_ID'].values.reshape(-1, 1)\n",
    "print(\"X_test: \", X_test)"
   ]
  },
  {
   "cell_type": "code",
   "execution_count": 18,
   "id": "60eb6638",
   "metadata": {},
   "outputs": [
    {
     "data": {
      "text/plain": [
       "LinearRegression()"
      ]
     },
     "execution_count": 18,
     "metadata": {},
     "output_type": "execute_result"
    }
   ],
   "source": [
    "model = LinearRegression()\n",
    "model.fit(X_train, y_train)"
   ]
  },
  {
   "cell_type": "code",
   "execution_count": 20,
   "id": "b87fb512",
   "metadata": {},
   "outputs": [
    {
     "name": "stdout",
     "output_type": "stream",
     "text": [
      "y_pred:  [4353.03163107 4847.4500338  4908.19366499 ... 4394.39946043 3851.03886498\n",
      " 3789.50798649]\n"
     ]
    }
   ],
   "source": [
    "y_pred = model.predict(X_test)\n",
    "print(\"y_pred: \",y_pred)"
   ]
  },
  {
   "cell_type": "code",
   "execution_count": 21,
   "id": "579d834b",
   "metadata": {},
   "outputs": [
    {
     "name": "stdout",
     "output_type": "stream",
     "text": [
      "X_test:  [1925202 2673191 2765088 ... 1987786 1165754 1072666]\n"
     ]
    }
   ],
   "source": [
    "X_test = test_data['PRODUCT_ID'].values\n",
    "print(\"X_test: \", X_test)"
   ]
  },
  {
   "cell_type": "code",
   "execution_count": 22,
   "id": "97fd59b1",
   "metadata": {},
   "outputs": [
    {
     "name": "stdout",
     "output_type": "stream",
     "text": [
      "Mean Squared Error:  1827050523344.8167\n",
      "R2 Score:  1.7942324193054304e-07\n",
      "True Values:  [2125.98       393.7        748.0314953 ... 1200.        2900.\n",
      " 2000.       ]\n",
      "Predicted Values:  [4353.03163107 4847.4500338  4908.19366499 ... 4394.39946043 3851.03886498\n",
      " 3789.50798649]\n"
     ]
    }
   ],
   "source": [
    "from sklearn.metrics import mean_squared_error, r2_score\n",
    "mse = mean_squared_error(y_train, y_pred)\n",
    "r2 = r2_score(y_train, y_pred)\n",
    "\n",
    "# Printing the model performance metrics\n",
    "print(\"Mean Squared Error: \", mse)\n",
    "print(\"R2 Score: \", r2)\n",
    "\n",
    "# Printing the true and predicted values for the test data\n",
    "print(\"True Values: \", y_train)\n",
    "print(\"Predicted Values: \", y_pred)"
   ]
  },
  {
   "cell_type": "code",
   "execution_count": null,
   "id": "bf277408",
   "metadata": {},
   "outputs": [],
   "source": [
    "X_train"
   ]
  }
 ],
 "metadata": {
  "kernelspec": {
   "display_name": "Python 3 (ipykernel)",
   "language": "python",
   "name": "python3"
  },
  "language_info": {
   "codemirror_mode": {
    "name": "ipython",
    "version": 3
   },
   "file_extension": ".py",
   "mimetype": "text/x-python",
   "name": "python",
   "nbconvert_exporter": "python",
   "pygments_lexer": "ipython3",
   "version": "3.9.16"
  }
 },
 "nbformat": 4,
 "nbformat_minor": 5
}
